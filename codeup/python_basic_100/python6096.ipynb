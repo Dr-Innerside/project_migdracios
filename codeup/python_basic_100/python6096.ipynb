{
 "cells": [
  {
   "cell_type": "code",
   "execution_count": 2,
   "metadata": {
    "collapsed": false,
    "pycharm": {
     "name": "#%%\n"
    }
   },
   "outputs": [],
   "source": [
    "board = [[0, 0, 0, 0, 0, 0, 0, 0, 0, 1, 0, 1, 0, 0, 0, 0, 0, 0, 0], [0, 0, 0, 0, 0, 0, 0, 0, 0, 1, 0, 1, 0, 0, 0, 0, 0, 0, 0], [0, 0, 0, 0, 0, 0, 0, 0, 0, 1, 0, 1, 0, 0, 0, 0, 0, 0, 0], [0, 0, 0, 0, 0, 0, 0, 0, 0, 1, 0, 1, 0, 0, 0, 0, 0, 0, 0], [0, 0, 0, 0, 0, 0, 0, 0, 0, 1, 0, 1, 0, 0, 0, 0, 0, 0, 0], [0, 0, 0, 0, 0, 0, 0, 0, 0, 1, 0, 1, 0, 0, 0, 0, 0, 0, 0], [0, 0, 0, 0, 0, 0, 0, 0, 0, 1, 0, 1, 0, 0, 0, 0, 0, 0, 0], [0, 0, 0, 0, 0, 0, 0, 0, 0, 1, 0, 1, 0, 0, 0, 0, 0, 0, 0], [0, 0, 0, 0, 0, 0, 0, 0, 0, 1, 0, 1, 0, 0, 0, 0, 0, 0, 0], [1, 1, 1, 1, 1, 1, 1, 1, 1, 1, 1, 1, 1, 1, 1, 1, 1, 1, 1], [0, 0, 0, 0, 0, 0, 0, 0, 0, 1, 0, 1, 0, 0, 0, 0, 0, 0, 0], [1, 1, 1, 1, 1, 1, 1, 1, 1, 1, 1, 1, 1, 1, 1, 1, 1, 1, 1], [0, 0, 0, 0, 0, 0, 0, 0, 0, 1, 0, 1, 0, 0, 0, 0, 0, 0, 0], [0, 0, 0, 0, 0, 0, 0, 0, 0, 1, 0, 1, 0, 0, 0, 0, 0, 0, 0], [0, 0, 0, 0, 0, 0, 0, 0, 0, 1, 0, 1, 0, 0, 0, 0, 0, 0, 0], [0, 0, 0, 0, 0, 0, 0, 0, 0, 1, 0, 1, 0, 0, 0, 0, 0, 0, 0], [0, 0, 0, 0, 0, 0, 0, 0, 0, 1, 0, 1, 0, 0, 0, 0, 0, 0, 0], [0, 0, 0, 0, 0, 0, 0, 0, 0, 1, 0, 1, 0, 0, 0, 0, 0, 0, 0], [0, 0, 0, 0, 0, 0, 0, 0, 0, 1, 0, 1, 0, 0, 0, 0, 0, 0, 0]]"
   ]
  },
  {
   "cell_type": "code",
   "execution_count": 1,
   "metadata": {
    "collapsed": false,
    "pycharm": {
     "name": "#%%\n"
    }
   },
   "outputs": [],
   "source": [
    "board = [list(map(int, input().split()) for i in range(19))]"
   ]
  },
  {
   "cell_type": "code",
   "execution_count": 3,
   "metadata": {
    "collapsed": false,
    "pycharm": {
     "name": "#%%\n"
    }
   },
   "outputs": [],
   "source": [
    "def change_piece(x, y, board):\n",
    "    print(f'x->{x}, y->{y}')\n",
    "    for run in range(19):\n",
    "        if board[run][y-1] == 1:\n",
    "            board[run][y-1] = 0\n",
    "        elif board[run][y-1] == 0:\n",
    "            board[run][y-1] = 1\n",
    "        print(f'complete->{run, y-1}, boardNum->{board[run][y-1]}')\n",
    "        if board[x-1][run] == 1:\n",
    "            board[x-1][run] = 0\n",
    "        elif board[x-1][run] == 0:\n",
    "            board[x-1][run] = 1\n",
    "        print(f'complete->{x-1, run}, boardNum->{board[x-1][run]}')\n",
    "    return board"
   ]
  },
  {
   "cell_type": "code",
   "execution_count": 4,
   "metadata": {
    "collapsed": false,
    "pycharm": {
     "name": "#%%\n"
    }
   },
   "outputs": [],
   "source": [
    "count = 2"
   ]
  },
  {
   "cell_type": "code",
   "execution_count": 6,
   "metadata": {
    "collapsed": false,
    "pycharm": {
     "name": "#%%\n"
    }
   },
   "outputs": [
    {
     "name": "stdout",
     "output_type": "stream",
     "text": [
      "10 10\n",
      "x->10, y->10\n",
      "complete->(0, 9), boardNum->0\n",
      "complete->(9, 0), boardNum->0\n",
      "complete->(1, 9), boardNum->0\n",
      "complete->(9, 1), boardNum->0\n",
      "complete->(2, 9), boardNum->0\n",
      "complete->(9, 2), boardNum->0\n",
      "complete->(3, 9), boardNum->0\n",
      "complete->(9, 3), boardNum->0\n",
      "complete->(4, 9), boardNum->0\n",
      "complete->(9, 4), boardNum->0\n",
      "complete->(5, 9), boardNum->0\n",
      "complete->(9, 5), boardNum->0\n",
      "complete->(6, 9), boardNum->0\n",
      "complete->(9, 6), boardNum->0\n",
      "complete->(7, 9), boardNum->0\n",
      "complete->(9, 7), boardNum->0\n",
      "complete->(8, 9), boardNum->0\n",
      "complete->(9, 8), boardNum->0\n",
      "complete->(9, 9), boardNum->0\n",
      "complete->(9, 9), boardNum->1\n",
      "complete->(10, 9), boardNum->0\n",
      "complete->(9, 10), boardNum->0\n",
      "complete->(11, 9), boardNum->0\n",
      "complete->(9, 11), boardNum->0\n",
      "complete->(12, 9), boardNum->0\n",
      "complete->(9, 12), boardNum->0\n",
      "complete->(13, 9), boardNum->0\n",
      "complete->(9, 13), boardNum->0\n",
      "complete->(14, 9), boardNum->0\n",
      "complete->(9, 14), boardNum->0\n",
      "complete->(15, 9), boardNum->0\n",
      "complete->(9, 15), boardNum->0\n",
      "complete->(16, 9), boardNum->0\n",
      "complete->(9, 16), boardNum->0\n",
      "complete->(17, 9), boardNum->0\n",
      "complete->(9, 17), boardNum->0\n",
      "complete->(18, 9), boardNum->0\n",
      "complete->(9, 18), boardNum->0\n",
      "12 12\n",
      "x->12, y->12\n",
      "complete->(0, 11), boardNum->0\n",
      "complete->(11, 0), boardNum->0\n",
      "complete->(1, 11), boardNum->0\n",
      "complete->(11, 1), boardNum->0\n",
      "complete->(2, 11), boardNum->0\n",
      "complete->(11, 2), boardNum->0\n",
      "complete->(3, 11), boardNum->0\n",
      "complete->(11, 3), boardNum->0\n",
      "complete->(4, 11), boardNum->0\n",
      "complete->(11, 4), boardNum->0\n",
      "complete->(5, 11), boardNum->0\n",
      "complete->(11, 5), boardNum->0\n",
      "complete->(6, 11), boardNum->0\n",
      "complete->(11, 6), boardNum->0\n",
      "complete->(7, 11), boardNum->0\n",
      "complete->(11, 7), boardNum->0\n",
      "complete->(8, 11), boardNum->0\n",
      "complete->(11, 8), boardNum->0\n",
      "complete->(9, 11), boardNum->1\n",
      "complete->(11, 9), boardNum->1\n",
      "complete->(10, 11), boardNum->0\n",
      "complete->(11, 10), boardNum->0\n",
      "complete->(11, 11), boardNum->0\n",
      "complete->(11, 11), boardNum->1\n",
      "complete->(12, 11), boardNum->0\n",
      "complete->(11, 12), boardNum->0\n",
      "complete->(13, 11), boardNum->0\n",
      "complete->(11, 13), boardNum->0\n",
      "complete->(14, 11), boardNum->0\n",
      "complete->(11, 14), boardNum->0\n",
      "complete->(15, 11), boardNum->0\n",
      "complete->(11, 15), boardNum->0\n",
      "complete->(16, 11), boardNum->0\n",
      "complete->(11, 16), boardNum->0\n",
      "complete->(17, 11), boardNum->0\n",
      "complete->(11, 17), boardNum->0\n",
      "complete->(18, 11), boardNum->0\n",
      "complete->(11, 18), boardNum->0\n"
     ]
    }
   ],
   "source": [
    "for i in range(count):\n",
    "    x, y = map(int, input().split())\n",
    "    print(x,y)\n",
    "    board = change_piece(x,y,board)\n",
    "\n"
   ]
  },
  {
   "cell_type": "code",
   "execution_count": 7,
   "metadata": {
    "collapsed": false,
    "pycharm": {
     "name": "#%%\n"
    }
   },
   "outputs": [
    {
     "name": "stdout",
     "output_type": "stream",
     "text": [
      "0 0 0 0 0 0 0 0 0 0 0 0 0 0 0 0 0 0 0\n",
      "0 0 0 0 0 0 0 0 0 0 0 0 0 0 0 0 0 0 0\n",
      "0 0 0 0 0 0 0 0 0 0 0 0 0 0 0 0 0 0 0\n",
      "0 0 0 0 0 0 0 0 0 0 0 0 0 0 0 0 0 0 0\n",
      "0 0 0 0 0 0 0 0 0 0 0 0 0 0 0 0 0 0 0\n",
      "0 0 0 0 0 0 0 0 0 0 0 0 0 0 0 0 0 0 0\n",
      "0 0 0 0 0 0 0 0 0 0 0 0 0 0 0 0 0 0 0\n",
      "0 0 0 0 0 0 0 0 0 0 0 0 0 0 0 0 0 0 0\n",
      "0 0 0 0 0 0 0 0 0 0 0 0 0 0 0 0 0 0 0\n",
      "0 0 0 0 0 0 0 0 0 1 0 1 0 0 0 0 0 0 0\n",
      "0 0 0 0 0 0 0 0 0 0 0 0 0 0 0 0 0 0 0\n",
      "0 0 0 0 0 0 0 0 0 1 0 1 0 0 0 0 0 0 0\n",
      "0 0 0 0 0 0 0 0 0 0 0 0 0 0 0 0 0 0 0\n",
      "0 0 0 0 0 0 0 0 0 0 0 0 0 0 0 0 0 0 0\n",
      "0 0 0 0 0 0 0 0 0 0 0 0 0 0 0 0 0 0 0\n",
      "0 0 0 0 0 0 0 0 0 0 0 0 0 0 0 0 0 0 0\n",
      "0 0 0 0 0 0 0 0 0 0 0 0 0 0 0 0 0 0 0\n",
      "0 0 0 0 0 0 0 0 0 0 0 0 0 0 0 0 0 0 0\n",
      "0 0 0 0 0 0 0 0 0 0 0 0 0 0 0 0 0 0 0\n"
     ]
    }
   ],
   "source": [
    "for i in board:\n",
    "    print(' '.join(list(map(str, i))))"
   ]
  },
  {
   "cell_type": "code",
   "execution_count": null,
   "metadata": {
    "collapsed": false,
    "pycharm": {
     "name": "#%%\n"
    }
   },
   "outputs": [],
   "source": []
  }
 ],
 "metadata": {
  "interpreter": {
   "hash": "e1632e8e7d645401844619c77e6faf55b70b9914be6d6d3489d5482d7403a68e"
  },
  "kernelspec": {
   "display_name": "Python 3.8.6 64-bit",
   "language": "python",
   "name": "python3"
  },
  "language_info": {
   "codemirror_mode": {
    "name": "ipython",
    "version": 3
   },
   "file_extension": ".py",
   "mimetype": "text/x-python",
   "name": "python",
   "nbconvert_exporter": "python",
   "pygments_lexer": "ipython3",
   "version": "3.8.6"
  }
 },
 "nbformat": 4,
 "nbformat_minor": 0
}
